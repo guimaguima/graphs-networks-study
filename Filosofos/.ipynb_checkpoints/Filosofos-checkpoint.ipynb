{
 "cells": [
  {
   "cell_type": "markdown",
   "id": "504d156a-cf79-4500-b488-9299e82791db",
   "metadata": {},
   "source": [
    "# Filosofos\n",
    "O intuito deste notebook e generalizar a pesquisa de popularidade de grafos dos artistas para uma base de filósofos.\n"
   ]
  },
  {
   "cell_type": "code",
   "execution_count": 1,
   "id": "5f89624e-6bfa-45e2-93ee-7d4bf6fa2a53",
   "metadata": {},
   "outputs": [],
   "source": [
    "from filosofosutils import *"
   ]
  },
  {
   "cell_type": "code",
   "execution_count": 2,
   "id": "a8ff60ef-5fd7-4adb-b044-5548b8cab8b4",
   "metadata": {},
   "outputs": [
    {
     "ename": "NameError",
     "evalue": "name 'pandas' is not defined",
     "output_type": "error",
     "traceback": [
      "\u001b[1;31m---------------------------------------------------------------------------\u001b[0m",
      "\u001b[1;31mNameError\u001b[0m                                 Traceback (most recent call last)",
      "Cell \u001b[1;32mIn[2], line 1\u001b[0m\n\u001b[1;32m----> 1\u001b[0m filosofos \u001b[38;5;241m=\u001b[39m json_to_csv()\n\u001b[0;32m      2\u001b[0m filosofos\n",
      "File \u001b[1;32m~\\Documents\\Programas\\graphs-networks-study\\Filosofos\\filosofosutils.py:10\u001b[0m, in \u001b[0;36mjson_to_csv\u001b[1;34m(caminho_arquivos)\u001b[0m\n\u001b[0;32m      7\u001b[0m \u001b[38;5;28;01mwith\u001b[39;00m \u001b[38;5;28mopen\u001b[39m(caminho_arquivos, \u001b[38;5;124m'\u001b[39m\u001b[38;5;124mr\u001b[39m\u001b[38;5;124m'\u001b[39m) \u001b[38;5;28;01mas\u001b[39;00m file:\n\u001b[0;32m      8\u001b[0m     data \u001b[38;5;241m=\u001b[39m json\u001b[38;5;241m.\u001b[39mload(file)\n\u001b[1;32m---> 10\u001b[0m filosofos \u001b[38;5;241m=\u001b[39m pandas\u001b[38;5;241m.\u001b[39mDataFrame()\n\u001b[0;32m     12\u001b[0m filosofos[\u001b[38;5;124m'\u001b[39m\u001b[38;5;124minfluenciado\u001b[39m\u001b[38;5;124m'\u001b[39m] \u001b[38;5;241m=\u001b[39m \u001b[38;5;124m\"\u001b[39m\u001b[38;5;124m\"\u001b[39m \n\u001b[0;32m     13\u001b[0m filosofos[\u001b[38;5;124m'\u001b[39m\u001b[38;5;124minfluencia\u001b[39m\u001b[38;5;124m'\u001b[39m] \u001b[38;5;241m=\u001b[39m \u001b[38;5;124m\"\u001b[39m\u001b[38;5;124m\"\u001b[39m \n",
      "\u001b[1;31mNameError\u001b[0m: name 'pandas' is not defined"
     ]
    }
   ],
   "source": [
    "filosofos = json_to_csv()\n",
    "filosofos"
   ]
  },
  {
   "cell_type": "code",
   "execution_count": null,
   "id": "b1824e32-70af-4638-80e7-7157728e703a",
   "metadata": {},
   "outputs": [],
   "source": []
  }
 ],
 "metadata": {
  "kernelspec": {
   "display_name": "Python 3 (ipykernel)",
   "language": "python",
   "name": "python3"
  },
  "language_info": {
   "codemirror_mode": {
    "name": "ipython",
    "version": 3
   },
   "file_extension": ".py",
   "mimetype": "text/x-python",
   "name": "python",
   "nbconvert_exporter": "python",
   "pygments_lexer": "ipython3",
   "version": "3.12.5"
  }
 },
 "nbformat": 4,
 "nbformat_minor": 5
}
