{
 "cells": [
  {
   "cell_type": "markdown",
   "id": "504d156a-cf79-4500-b488-9299e82791db",
   "metadata": {},
   "source": [
    "# Filosofos\n",
    "O intuito deste notebook e generalizar a pesquisa de popularidade de grafos dos artistas para uma base de filósofos.\n"
   ]
  },
  {
   "cell_type": "code",
   "execution_count": 1,
   "id": "5f89624e-6bfa-45e2-93ee-7d4bf6fa2a53",
   "metadata": {},
   "outputs": [],
   "source": [
    "from filosofosutils import *"
   ]
  },
  {
   "cell_type": "code",
   "execution_count": 2,
   "id": "a8ff60ef-5fd7-4adb-b044-5548b8cab8b4",
   "metadata": {},
   "outputs": [
    {
     "data": {
      "text/html": [
       "<div>\n",
       "<style scoped>\n",
       "    .dataframe tbody tr th:only-of-type {\n",
       "        vertical-align: middle;\n",
       "    }\n",
       "\n",
       "    .dataframe tbody tr th {\n",
       "        vertical-align: top;\n",
       "    }\n",
       "\n",
       "    .dataframe thead th {\n",
       "        text-align: right;\n",
       "    }\n",
       "</style>\n",
       "<table border=\"1\" class=\"dataframe\">\n",
       "  <thead>\n",
       "    <tr style=\"text-align: right;\">\n",
       "      <th></th>\n",
       "      <th>influenciado</th>\n",
       "      <th>influencia</th>\n",
       "    </tr>\n",
       "  </thead>\n",
       "  <tbody>\n",
       "    <tr>\n",
       "      <th>0</th>\n",
       "      <td>Camille_Moubarak</td>\n",
       "      <td>Jürgen_Habermas</td>\n",
       "    </tr>\n",
       "    <tr>\n",
       "      <th>1</th>\n",
       "      <td>Carl_Gustav_Hempel</td>\n",
       "      <td>Robert_Nozick</td>\n",
       "    </tr>\n",
       "    <tr>\n",
       "      <th>2</th>\n",
       "      <td>Carl_Gustav_Hempel</td>\n",
       "      <td>Peter_Achinstein</td>\n",
       "    </tr>\n",
       "    <tr>\n",
       "      <th>3</th>\n",
       "      <td>Carl_Gustav_Hempel</td>\n",
       "      <td>Richard_Jeffrey</td>\n",
       "    </tr>\n",
       "    <tr>\n",
       "      <th>4</th>\n",
       "      <td>Carl_Gustav_Hempel</td>\n",
       "      <td>Jaegwon_Kim</td>\n",
       "    </tr>\n",
       "    <tr>\n",
       "      <th>...</th>\n",
       "      <td>...</td>\n",
       "      <td>...</td>\n",
       "    </tr>\n",
       "    <tr>\n",
       "      <th>5698</th>\n",
       "      <td>Leonard_Nelson__Leonard_Nelson__1</td>\n",
       "      <td>Kurt_Grelling</td>\n",
       "    </tr>\n",
       "    <tr>\n",
       "      <th>5699</th>\n",
       "      <td>Sir_William_Hamilton,_9th_Baronet__William_Ham...</td>\n",
       "      <td>John_Stuart_Mill</td>\n",
       "    </tr>\n",
       "    <tr>\n",
       "      <th>5700</th>\n",
       "      <td>Sir_William_Hamilton,_9th_Baronet__William_Ham...</td>\n",
       "      <td>James_Hutchison_Stirling</td>\n",
       "    </tr>\n",
       "    <tr>\n",
       "      <th>5701</th>\n",
       "      <td>Sir_William_Hamilton,_9th_Baronet__William_Ham...</td>\n",
       "      <td>John_Veitch_(poet)</td>\n",
       "    </tr>\n",
       "    <tr>\n",
       "      <th>5702</th>\n",
       "      <td>Sir_William_Hamilton,_9th_Baronet__William_Ham...</td>\n",
       "      <td>Herbert_Spencer</td>\n",
       "    </tr>\n",
       "  </tbody>\n",
       "</table>\n",
       "<p>5703 rows × 2 columns</p>\n",
       "</div>"
      ],
      "text/plain": [
       "                                           influenciado  \\\n",
       "0                                      Camille_Moubarak   \n",
       "1                                    Carl_Gustav_Hempel   \n",
       "2                                    Carl_Gustav_Hempel   \n",
       "3                                    Carl_Gustav_Hempel   \n",
       "4                                    Carl_Gustav_Hempel   \n",
       "...                                                 ...   \n",
       "5698                  Leonard_Nelson__Leonard_Nelson__1   \n",
       "5699  Sir_William_Hamilton,_9th_Baronet__William_Ham...   \n",
       "5700  Sir_William_Hamilton,_9th_Baronet__William_Ham...   \n",
       "5701  Sir_William_Hamilton,_9th_Baronet__William_Ham...   \n",
       "5702  Sir_William_Hamilton,_9th_Baronet__William_Ham...   \n",
       "\n",
       "                    influencia  \n",
       "0              Jürgen_Habermas  \n",
       "1                Robert_Nozick  \n",
       "2             Peter_Achinstein  \n",
       "3              Richard_Jeffrey  \n",
       "4                  Jaegwon_Kim  \n",
       "...                        ...  \n",
       "5698             Kurt_Grelling  \n",
       "5699          John_Stuart_Mill  \n",
       "5700  James_Hutchison_Stirling  \n",
       "5701        John_Veitch_(poet)  \n",
       "5702           Herbert_Spencer  \n",
       "\n",
       "[5703 rows x 2 columns]"
      ]
     },
     "execution_count": 2,
     "metadata": {},
     "output_type": "execute_result"
    }
   ],
   "source": [
    "filosofos = json_to_csv()\n",
    "filosofos"
   ]
  },
  {
   "cell_type": "code",
   "execution_count": null,
   "id": "b1824e32-70af-4638-80e7-7157728e703a",
   "metadata": {},
   "outputs": [],
   "source": []
  }
 ],
 "metadata": {
  "kernelspec": {
   "display_name": "Python 3 (ipykernel)",
   "language": "python",
   "name": "python3"
  },
  "language_info": {
   "codemirror_mode": {
    "name": "ipython",
    "version": 3
   },
   "file_extension": ".py",
   "mimetype": "text/x-python",
   "name": "python",
   "nbconvert_exporter": "python",
   "pygments_lexer": "ipython3",
   "version": "3.12.5"
  }
 },
 "nbformat": 4,
 "nbformat_minor": 5
}
