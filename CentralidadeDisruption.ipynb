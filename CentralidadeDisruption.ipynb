{
 "cells": [
  {
   "cell_type": "markdown",
   "id": "da6d41cd-4ba4-440a-a725-8a3fe61e781c",
   "metadata": {},
   "source": [
    "# Centralidade & Disruptividade\n",
    "---\n",
    "O intuito deste jupyter notebook é a organização do código em Python para demonstrações e vizualizações.\n",
    "A verificação é observada apartir das funções criadas que estão sendo importadas do graphutils - somente isso no momento.\n",
    "Para mais informações contatem os membros do GitHub.\n",
    "\n",
    "As bibliotecas usadas são:\n",
    "> Networkx\n",
    "> \n",
    "> Pandas\n",
    "> \n",
    "> Numpy"
   ]
  },
  {
   "cell_type": "code",
   "execution_count": 1,
   "id": "1d874529-bd2d-43ad-b4e7-66eda06b6455",
   "metadata": {},
   "outputs": [],
   "source": [
    "from graphutils import get_data\n",
    "from graphutils import get_grafo\n",
    "from graphutils import get_df"
   ]
  },
  {
   "cell_type": "markdown",
   "id": "27a27e99-6484-4a78-b6ff-da0ddb628c83",
   "metadata": {},
   "source": [
    "### Criando o grafo\n",
    "Para criar o grafo, é útilizado a data da rede de pessoas - neste caso os artistas - e utiliza da função *get_grafo()* para criar a rede desejada. "
   ]
  },
  {
   "cell_type": "code",
   "execution_count": 2,
   "id": "83e583eb-724b-4338-bebb-676aec281d88",
   "metadata": {},
   "outputs": [],
   "source": [
    "data_desejada = get_data('artists.json')"
   ]
  },
  {
   "cell_type": "code",
   "execution_count": 3,
   "id": "a920512d-7133-425c-b170-37e39d04217f",
   "metadata": {},
   "outputs": [],
   "source": [
    "grafo = get_grafo(data_desejada)"
   ]
  },
  {
   "cell_type": "markdown",
   "id": "df5cfe7b-b0da-468c-b114-53ab7947bdeb",
   "metadata": {},
   "source": [
    "### Criando o DataFrame\n",
    "O data frame é criado apartir do resultado de disruptividade - anteriormente calculado. Ele será importante para a observação de padrões na rede social. "
   ]
  },
  {
   "cell_type": "code",
   "execution_count": 12,
   "id": "58af1c4e-442e-4b55-8a53-e9ed7472e0a7",
   "metadata": {},
   "outputs": [],
   "source": [
    "df = get_df('disrupt','csv')\n",
    "df = df.set_index('label').sort_values(by='confidence',ascending=False)"
   ]
  },
  {
   "cell_type": "code",
   "execution_count": 13,
   "id": "47fd1650-f55e-4e42-905e-2f77682fe669",
   "metadata": {
    "scrolled": true
   },
   "outputs": [
    {
     "data": {
      "text/html": [
       "<div>\n",
       "<style scoped>\n",
       "    .dataframe tbody tr th:only-of-type {\n",
       "        vertical-align: middle;\n",
       "    }\n",
       "\n",
       "    .dataframe tbody tr th {\n",
       "        vertical-align: top;\n",
       "    }\n",
       "\n",
       "    .dataframe thead th {\n",
       "        text-align: right;\n",
       "    }\n",
       "</style>\n",
       "<table border=\"1\" class=\"dataframe\">\n",
       "  <thead>\n",
       "    <tr style=\"text-align: right;\">\n",
       "      <th></th>\n",
       "      <th>ni</th>\n",
       "      <th>nj</th>\n",
       "      <th>nk</th>\n",
       "      <th>disruption</th>\n",
       "      <th>name</th>\n",
       "      <th>confidence</th>\n",
       "    </tr>\n",
       "    <tr>\n",
       "      <th>label</th>\n",
       "      <th></th>\n",
       "      <th></th>\n",
       "      <th></th>\n",
       "      <th></th>\n",
       "      <th></th>\n",
       "      <th></th>\n",
       "    </tr>\n",
       "  </thead>\n",
       "  <tbody>\n",
       "    <tr>\n",
       "      <th>mn0000140499</th>\n",
       "      <td>144.0</td>\n",
       "      <td>31.0</td>\n",
       "      <td>1259.0</td>\n",
       "      <td>0.078801</td>\n",
       "      <td>Cocteau Twins</td>\n",
       "      <td>1.0000</td>\n",
       "    </tr>\n",
       "    <tr>\n",
       "      <th>mn0000683446</th>\n",
       "      <td>30.0</td>\n",
       "      <td>3.0</td>\n",
       "      <td>268.0</td>\n",
       "      <td>0.089701</td>\n",
       "      <td>Kurt Weill</td>\n",
       "      <td>1.0000</td>\n",
       "    </tr>\n",
       "    <tr>\n",
       "      <th>mn0000824022</th>\n",
       "      <td>102.0</td>\n",
       "      <td>16.0</td>\n",
       "      <td>232.0</td>\n",
       "      <td>0.245714</td>\n",
       "      <td>Little Richard</td>\n",
       "      <td>1.0000</td>\n",
       "    </tr>\n",
       "    <tr>\n",
       "      <th>mn0000150629</th>\n",
       "      <td>51.0</td>\n",
       "      <td>2.0</td>\n",
       "      <td>4.0</td>\n",
       "      <td>0.859649</td>\n",
       "      <td>Édith Piaf</td>\n",
       "      <td>1.0000</td>\n",
       "    </tr>\n",
       "    <tr>\n",
       "      <th>mn0000037658</th>\n",
       "      <td>78.0</td>\n",
       "      <td>24.0</td>\n",
       "      <td>210.0</td>\n",
       "      <td>0.173077</td>\n",
       "      <td>Steve Reich</td>\n",
       "      <td>1.0000</td>\n",
       "    </tr>\n",
       "    <tr>\n",
       "      <th>...</th>\n",
       "      <td>...</td>\n",
       "      <td>...</td>\n",
       "      <td>...</td>\n",
       "      <td>...</td>\n",
       "      <td>...</td>\n",
       "      <td>...</td>\n",
       "    </tr>\n",
       "    <tr>\n",
       "      <th>mn0000025857</th>\n",
       "      <td>2.0</td>\n",
       "      <td>2.0</td>\n",
       "      <td>36.0</td>\n",
       "      <td>0.000000</td>\n",
       "      <td>Shep Pettibone</td>\n",
       "      <td>0.4889</td>\n",
       "    </tr>\n",
       "    <tr>\n",
       "      <th>mn0000231213</th>\n",
       "      <td>1.0</td>\n",
       "      <td>1.0</td>\n",
       "      <td>34.0</td>\n",
       "      <td>0.000000</td>\n",
       "      <td>John Wetton</td>\n",
       "      <td>0.4878</td>\n",
       "    </tr>\n",
       "    <tr>\n",
       "      <th>mn0000023640</th>\n",
       "      <td>1.0</td>\n",
       "      <td>1.0</td>\n",
       "      <td>43.0</td>\n",
       "      <td>0.000000</td>\n",
       "      <td>Terry Jennings</td>\n",
       "      <td>0.4877</td>\n",
       "    </tr>\n",
       "    <tr>\n",
       "      <th>mn0000207127</th>\n",
       "      <td>2.0</td>\n",
       "      <td>2.0</td>\n",
       "      <td>2089.0</td>\n",
       "      <td>0.000000</td>\n",
       "      <td>Ricky Van Shelton</td>\n",
       "      <td>0.4875</td>\n",
       "    </tr>\n",
       "    <tr>\n",
       "      <th>mn0000251595</th>\n",
       "      <td>3.0</td>\n",
       "      <td>3.0</td>\n",
       "      <td>2333.0</td>\n",
       "      <td>0.000000</td>\n",
       "      <td>Whitesnake</td>\n",
       "      <td>0.4868</td>\n",
       "    </tr>\n",
       "  </tbody>\n",
       "</table>\n",
       "<p>7433 rows × 6 columns</p>\n",
       "</div>"
      ],
      "text/plain": [
       "                 ni    nj      nk  disruption               name  confidence\n",
       "label                                                                       \n",
       "mn0000140499  144.0  31.0  1259.0    0.078801      Cocteau Twins      1.0000\n",
       "mn0000683446   30.0   3.0   268.0    0.089701         Kurt Weill      1.0000\n",
       "mn0000824022  102.0  16.0   232.0    0.245714     Little Richard      1.0000\n",
       "mn0000150629   51.0   2.0     4.0    0.859649         Édith Piaf      1.0000\n",
       "mn0000037658   78.0  24.0   210.0    0.173077        Steve Reich      1.0000\n",
       "...             ...   ...     ...         ...                ...         ...\n",
       "mn0000025857    2.0   2.0    36.0    0.000000     Shep Pettibone      0.4889\n",
       "mn0000231213    1.0   1.0    34.0    0.000000        John Wetton      0.4878\n",
       "mn0000023640    1.0   1.0    43.0    0.000000     Terry Jennings      0.4877\n",
       "mn0000207127    2.0   2.0  2089.0    0.000000  Ricky Van Shelton      0.4875\n",
       "mn0000251595    3.0   3.0  2333.0    0.000000         Whitesnake      0.4868\n",
       "\n",
       "[7433 rows x 6 columns]"
      ]
     },
     "execution_count": 13,
     "metadata": {},
     "output_type": "execute_result"
    }
   ],
   "source": [
    "df"
   ]
  }
 ],
 "metadata": {
  "kernelspec": {
   "display_name": "Python 3 (ipykernel)",
   "language": "python",
   "name": "python3"
  },
  "language_info": {
   "codemirror_mode": {
    "name": "ipython",
    "version": 3
   },
   "file_extension": ".py",
   "mimetype": "text/x-python",
   "name": "python",
   "nbconvert_exporter": "python",
   "pygments_lexer": "ipython3",
   "version": "3.10.12"
  }
 },
 "nbformat": 4,
 "nbformat_minor": 5
}
